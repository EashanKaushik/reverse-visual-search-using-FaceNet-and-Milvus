{
 "cells": [
  {
   "cell_type": "markdown",
   "id": "8ec04274",
   "metadata": {},
   "source": [
    "# Elastic knn"
   ]
  },
  {
   "cell_type": "markdown",
   "id": "2c14a9ea",
   "metadata": {},
   "source": [
    "## Load Dataset"
   ]
  },
  {
   "cell_type": "code",
   "execution_count": 1,
   "id": "270f550f",
   "metadata": {},
   "outputs": [],
   "source": [
    "import numpy as np\n",
    "import os\n",
    "import pandas as pd"
   ]
  },
  {
   "cell_type": "code",
   "execution_count": 3,
   "id": "cd9787ee",
   "metadata": {},
   "outputs": [],
   "source": [
    "X_train_features = np.loadtxt(os.path.join(\"0004\",'X_train_features.txt'))\n",
    "X_test_features = np.loadtxt(os.path.join(\"0004\",'X_test_features.txt'))"
   ]
  },
  {
   "cell_type": "code",
   "execution_count": 1,
   "id": "04ae551c",
   "metadata": {},
   "outputs": [],
   "source": [
    "y_train = np.loadtxt(os.path.join(\"0004\",'y_train.txt'))\n",
    "y_test = np.loadtxt(os.path.join(\"0004\",'y_test.txt'))"
   ]
  },
  {
   "cell_type": "code",
   "execution_count": null,
   "id": "742f2005",
   "metadata": {},
   "outputs": [],
   "source": [
    "train_images = np.loadtxt(os.path.join(\"0004\",'train_images.txt'))\n",
    "test_images = np.loadtxt(os.path.join(\"0004\",'test_images.txt'))"
   ]
  },
  {
   "cell_type": "code",
   "execution_count": null,
   "id": "552b4f2f",
   "metadata": {},
   "outputs": [],
   "source": [
    "X_train_features.shape"
   ]
  },
  {
   "cell_type": "code",
   "execution_count": null,
   "id": "3f379e31",
   "metadata": {},
   "outputs": [],
   "source": [
    "X_test_features.shape"
   ]
  },
  {
   "cell_type": "code",
   "execution_count": null,
   "id": "c0c45351",
   "metadata": {},
   "outputs": [],
   "source": [
    "y_train.shape"
   ]
  },
  {
   "cell_type": "code",
   "execution_count": null,
   "id": "c495ea0b",
   "metadata": {},
   "outputs": [],
   "source": [
    "y_test.shape"
   ]
  },
  {
   "cell_type": "code",
   "execution_count": null,
   "id": "2f687a97",
   "metadata": {},
   "outputs": [],
   "source": [
    "train_images"
   ]
  },
  {
   "cell_type": "code",
   "execution_count": null,
   "id": "64bede4a",
   "metadata": {},
   "outputs": [],
   "source": [
    "test_images"
   ]
  },
  {
   "cell_type": "code",
   "execution_count": 25,
   "id": "fe18d16e",
   "metadata": {},
   "outputs": [],
   "source": [
    "train_df = pd.DataFrame(X_train_features)\n",
    "train_df['target'] = y_train.astype(int)"
   ]
  },
  {
   "cell_type": "code",
   "execution_count": 26,
   "id": "a3fe71be",
   "metadata": {},
   "outputs": [],
   "source": [
    "test_df = pd.DataFrame(X_test_features)\n",
    "test_df['target'] = y_test.astype(int)"
   ]
  },
  {
   "cell_type": "markdown",
   "id": "ab9a57e7",
   "metadata": {},
   "source": [
    "## Elastic KNN"
   ]
  },
  {
   "cell_type": "markdown",
   "id": "7e87e270",
   "metadata": {},
   "source": [
    "### Install Packages"
   ]
  },
  {
   "cell_type": "code",
   "execution_count": null,
   "id": "694ace7c",
   "metadata": {},
   "outputs": [],
   "source": [
    "!pip install tensorflow-io\n",
    "!pip install elasticsearch"
   ]
  },
  {
   "cell_type": "markdown",
   "id": "1aeaf1da",
   "metadata": {},
   "source": [
    "### Import Libraries"
   ]
  },
  {
   "cell_type": "code",
   "execution_count": null,
   "id": "63e71ca2",
   "metadata": {},
   "outputs": [],
   "source": [
    "import os\n",
    "import time\n",
    "from sklearn.model_selection import train_test_split\n",
    "from elasticsearch import Elasticsearch\n",
    "import numpy as np\n",
    "import pandas as pd\n",
    "import tensorflow as tf\n",
    "from tensorflow.keras import layers\n",
    "from tensorflow.keras.layers.experimental import preprocessing\n",
    "import tensorflow_io as tfio"
   ]
  },
  {
   "cell_type": "markdown",
   "id": "faff2016",
   "metadata": {},
   "source": [
    "### Validate tf and tfio imports"
   ]
  },
  {
   "cell_type": "code",
   "execution_count": null,
   "id": "f1425131",
   "metadata": {},
   "outputs": [],
   "source": [
    "print(\"tensorflow-io version: {}\".format(tfio.__version__))\n",
    "print(\"tensorflow version: {}\".format(tf.__version__))"
   ]
  },
  {
   "cell_type": "markdown",
   "id": "425c3314",
   "metadata": {},
   "source": [
    "### Download and setup the Elasticsearch instance"
   ]
  },
  {
   "cell_type": "code",
   "execution_count": null,
   "id": "210ba4ff",
   "metadata": {},
   "outputs": [],
   "source": [
    "%%bash\n",
    "\n",
    "wget -q https://artifacts.elastic.co/downloads/elasticsearch/elasticsearch-oss-7.9.2-linux-x86_64.tar.gz\n",
    "wget -q https://artifacts.elastic.co/downloads/elasticsearch/elasticsearch-oss-7.9.2-linux-x86_64.tar.gz.sha512\n",
    "tar -xzf elasticsearch-oss-7.9.2-linux-x86_64.tar.gz\n",
    "sudo chown -R daemon:daemon elasticsearch-7.9.2/\n",
    "shasum -a 512 -c elasticsearch-oss-7.9.2-linux-x86_64.tar.gz.sha512 "
   ]
  },
  {
   "cell_type": "markdown",
   "id": "7fff1af2",
   "metadata": {},
   "source": [
    "#### Run Instance"
   ]
  },
  {
   "cell_type": "code",
   "execution_count": null,
   "id": "e2169dd6",
   "metadata": {},
   "outputs": [],
   "source": [
    "%%bash --bg\n",
    "\n",
    "sudo -H -u daemon elasticsearch-7.9.2/bin/elasticsearch"
   ]
  },
  {
   "cell_type": "code",
   "execution_count": null,
   "id": "3d168883",
   "metadata": {},
   "outputs": [],
   "source": [
    "# Sleep for few seconds to let the instance start.\n",
    "time.sleep(20)"
   ]
  },
  {
   "cell_type": "markdown",
   "id": "5c2159d4",
   "metadata": {},
   "source": [
    "#### Check Availability"
   ]
  },
  {
   "cell_type": "code",
   "execution_count": null,
   "id": "9d530e42",
   "metadata": {},
   "outputs": [],
   "source": [
    "%%bash\n",
    "\n",
    "ps -ef | grep elasticsearch"
   ]
  },
  {
   "cell_type": "markdown",
   "id": "558eabd6",
   "metadata": {},
   "source": [
    "#### Check local host"
   ]
  },
  {
   "cell_type": "code",
   "execution_count": null,
   "id": "a24afa05",
   "metadata": {},
   "outputs": [],
   "source": [
    "%%bash\n",
    "\n",
    "curl -sX GET \"localhost:9200/\""
   ]
  },
  {
   "cell_type": "markdown",
   "id": "73a5716f",
   "metadata": {},
   "source": [
    "### Store Database in Elastic Cluster"
   ]
  },
  {
   "cell_type": "code",
   "execution_count": null,
   "id": "d1b0f12f",
   "metadata": {},
   "outputs": [],
   "source": [
    "ES_NODES = \"http://localhost:9200\"\n",
    "\n",
    "def prepare_es_data(index, doc_type, df):\n",
    "    records = df.to_dict(orient=\"records\")\n",
    "    es_data = []\n",
    "    for idx, record in enumerate(records):\n",
    "        meta_dict = {\n",
    "            \"index\": {\n",
    "                \"_index\": index, \n",
    "                \"_type\": doc_type, \n",
    "                \"_id\": idx\n",
    "            }\n",
    "        }\n",
    "        es_data.append(meta_dict)\n",
    "        es_data.append(record)\n",
    "    \n",
    "    return es_data\n",
    "\n",
    "def index_es_data(index, es_data):\n",
    "    \n",
    "    es_client = Elasticsearch(hosts = [ES_NODES])\n",
    "    \n",
    "    if es_client.indices.exists(index):\n",
    "        print(\"deleting the '{}' index.\".format(index))\n",
    "        res = es_client.indices.delete(index=index)\n",
    "        print(\"Response from server: {}\".format(res)\n",
    "              \n",
    "    print(\"creating the '{}' index.\".format(index))\n",
    "    res = es_client.indices.create(index=index)\n",
    "    print(\"Response from server: {}\".format(res))\n",
    "\n",
    "    print(\"bulk index the data\")\n",
    "    res = es_client.bulk(index=index, body=es_data, refresh = True)\n",
    "    print(\"Errors: {}, Num of records indexed: {}\".format(res[\"errors\"], len(res[\"items\"])))"
   ]
  },
  {
   "cell_type": "code",
   "execution_count": null,
   "id": "a0c31ad7",
   "metadata": {},
   "outputs": [],
   "source": [
    "train_es_data = prepare_es_data(index=\"train\", doc_type=\"images\", df=train_df)\n",
    "test_es_data = prepare_es_data(index=\"test\", doc_type=\"images\", df=test_df)\n",
    "\n",
    "index_es_data(index=\"train\", es_data=train_es_data)\n",
    "time.sleep(3)\n",
    "index_es_data(index=\"test\", es_data=test_es_data)"
   ]
  },
  {
   "cell_type": "markdown",
   "id": "510f856e",
   "metadata": {},
   "source": [
    "### Prepare tfio Dataset"
   ]
  },
  {
   "cell_type": "markdown",
   "id": "3fbdeb4d",
   "metadata": {},
   "source": [
    "#### Train"
   ]
  },
  {
   "cell_type": "code",
   "execution_count": null,
   "id": "f6b74b52",
   "metadata": {},
   "outputs": [],
   "source": [
    "BATCH_SIZE=32\n",
    "HEADERS = {\"Content-Type\": \"application/json\"}\n",
    "\n",
    "train_ds = tfio.experimental.elasticsearch.ElasticsearchIODataset(\n",
    "        nodes=[ES_NODES],\n",
    "        index=\"train\",\n",
    "        doc_type=\"images\",\n",
    "        headers=HEADERS\n",
    "    )\n",
    "\n",
    "# Prepare a tuple of (features, label)\n",
    "train_ds = train_ds.map(lambda v: (v, v.pop(\"target\")))\n",
    "train_ds = train_ds.batch(BATCH_SIZE)"
   ]
  },
  {
   "cell_type": "markdown",
   "id": "4c94ad8c",
   "metadata": {},
   "source": [
    "#### Test"
   ]
  },
  {
   "cell_type": "code",
   "execution_count": null,
   "id": "95a2bce0",
   "metadata": {},
   "outputs": [],
   "source": [
    "test_ds = tfio.experimental.elasticsearch.ElasticsearchIODataset(\n",
    "        nodes=[ES_NODES],\n",
    "        index=\"test\",\n",
    "        doc_type=\"images\",\n",
    "        headers=HEADERS\n",
    "    )\n",
    "\n",
    "# Prepare a tuple of (features, label)\n",
    "test_ds = test_ds.map(lambda v: (v, v.pop(\"target\")))\n",
    "test_ds = test_ds.batch(BATCH_SIZE)"
   ]
  },
  {
   "cell_type": "markdown",
   "id": "c7ad4c19",
   "metadata": {},
   "source": [
    "### Pre-Processing"
   ]
  },
  {
   "cell_type": "code",
   "execution_count": null,
   "id": "3b4fc31f",
   "metadata": {},
   "outputs": [],
   "source": [
    "def get_normalization_layer(name, dataset):\n",
    "    normalizer = preprocessing.Normalization()\n",
    "    \n",
    "    feature_ds = dataset.map(lambda x, y: x[name])\n",
    "    \n",
    "    normalizer.adapt(feature_ds)\n",
    "    \n",
    "    return normalizer"
   ]
  },
  {
   "cell_type": "code",
   "execution_count": null,
   "id": "3d770d0a",
   "metadata": {},
   "outputs": [],
   "source": [
    "all_inputs = []\n",
    "encoded_features = []\n",
    "\n",
    "for header in train_df.columns[: -1]:\n",
    "    \n",
    "    numeric_col = tf.keras.Input(shape=(1,), name=header)\n",
    "    \n",
    "    normalization_layer = get_normalization_layer(header, train_ds)\n",
    "    \n",
    "    encoded_numeric_col = normalization_layer(numeric_col)\n",
    "    \n",
    "    all_inputs.append(numeric_col)\n",
    "    \n",
    "    encoded_features.append(encoded_numeric_col)"
   ]
  },
  {
   "cell_type": "markdown",
   "id": "71612f07",
   "metadata": {},
   "source": [
    "### Build Compile & Train Model"
   ]
  },
  {
   "cell_type": "code",
   "execution_count": null,
   "id": "a8d60d42",
   "metadata": {},
   "outputs": [],
   "source": [
    "# Set the parameters\n",
    "OPTIMIZER=\"adam\"\n",
    "LOSS=tf.keras.losses.CategoricalCrossentropy(from_logits=True)\n",
    "METRICS=['accuracy']\n",
    "EPOCHS=10"
   ]
  },
  {
   "cell_type": "code",
   "execution_count": null,
   "id": "08cba925",
   "metadata": {},
   "outputs": [],
   "source": [
    "# Convert the feature columns into a tf.keras layer\n",
    "all_features = tf.keras.layers.concatenate(encoded_features)\n",
    "\n",
    "# design/build the model\n",
    "x = tf.keras.layers.Dense(32, activation=\"relu\")(all_features)\n",
    "x = tf.keras.layers.Dropout(0.5)(x)\n",
    "x = tf.keras.layers.Dense(64, activation=\"relu\")(x)\n",
    "x = tf.keras.layers.Dropout(0.5)(x)\n",
    "\n",
    "output = tf.keras.layers.Dense(5748, activation=\"softmax\")(x)\n",
    "\n",
    "model = tf.keras.Model(all_inputs, output)\n",
    "\n",
    "tf.keras.utils.plot_model(model, rankdir='LR', show_shapes=True)"
   ]
  },
  {
   "cell_type": "code",
   "execution_count": null,
   "id": "48fc99c2",
   "metadata": {},
   "outputs": [],
   "source": [
    "model.compile(optimizer=OPTIMIZER, loss=LOSS, metrics=METRICS)"
   ]
  },
  {
   "cell_type": "code",
   "execution_count": null,
   "id": "b38629be",
   "metadata": {},
   "outputs": [],
   "source": [
    "model.fit(train_ds, epochs=EPOCHS)"
   ]
  },
  {
   "cell_type": "markdown",
   "id": "1434f8c4",
   "metadata": {},
   "source": [
    "### Evaluate Model"
   ]
  },
  {
   "cell_type": "code",
   "execution_count": null,
   "id": "5081dbd1",
   "metadata": {},
   "outputs": [],
   "source": [
    "res = model.evaluate(test_ds)\n",
    "print(\"test loss, test acc:\", res)"
   ]
  }
 ],
 "metadata": {
  "kernelspec": {
   "display_name": "Python 3 (ipykernel)",
   "language": "python",
   "name": "python3"
  },
  "language_info": {
   "codemirror_mode": {
    "name": "ipython",
    "version": 3
   },
   "file_extension": ".py",
   "mimetype": "text/x-python",
   "name": "python",
   "nbconvert_exporter": "python",
   "pygments_lexer": "ipython3",
   "version": "3.7.13"
  }
 },
 "nbformat": 4,
 "nbformat_minor": 5
}
