{
 "cells": [
  {
   "cell_type": "markdown",
   "id": "e5d3996d",
   "metadata": {},
   "source": [
    "# Dataset Split"
   ]
  },
  {
   "cell_type": "code",
   "execution_count": 1,
   "id": "10ae0e18",
   "metadata": {},
   "outputs": [],
   "source": [
    "import os\n",
    "import pandas as pd\n",
    "import numpy as np\n",
    "import matplotlib.pyplot as plt\n",
    "import seaborn as sns\n",
    "import random"
   ]
  },
  {
   "cell_type": "code",
   "execution_count": 2,
   "id": "bebb20d6",
   "metadata": {},
   "outputs": [],
   "source": [
    "labels = np.array(list(zip(os.listdir('LFW'), range(len(os.listdir('LFW'))))))\n",
    "labels_dict = {labels[i][0]: int(labels[i][1]) for i in range(len(labels))}"
   ]
  },
  {
   "cell_type": "code",
   "execution_count": 3,
   "id": "ff787373",
   "metadata": {},
   "outputs": [],
   "source": [
    "X = list()\n",
    "y = list()\n",
    "for name in labels[:, 0]:\n",
    "    path = os.listdir(os.path.join('LFW', name))\n",
    "    X.extend(path)\n",
    "    for image in path:\n",
    "        y.append(labels_dict[image.split('0')[0][: -1]])"
   ]
  },
  {
   "cell_type": "code",
   "execution_count": 4,
   "id": "f8c2df96",
   "metadata": {},
   "outputs": [],
   "source": [
    "joined_lists = list(zip(X, y))\n",
    "random.shuffle(joined_lists) # Shuffle \"joined_lists\" in place\n",
    "X_shuffle, y_shuffle = zip(*joined_lists) # Undo joining\n",
    "X_shuffle = np.array(X_shuffle)\n",
    "y_shuffle = np.array(y_shuffle)"
   ]
  },
  {
   "cell_type": "code",
   "execution_count": 5,
   "id": "753943e0",
   "metadata": {},
   "outputs": [],
   "source": [
    "split_index = int(len(X_shuffle) * 0.8)"
   ]
  },
  {
   "cell_type": "code",
   "execution_count": 6,
   "id": "a1db48ae",
   "metadata": {},
   "outputs": [],
   "source": [
    "X_train, X_test = X_shuffle[: split_index], X_shuffle[split_index: ]\n",
    "y_train, y_test = y_shuffle[: split_index], y_shuffle[split_index: ]"
   ]
  },
  {
   "cell_type": "code",
   "execution_count": 7,
   "id": "6b994a48",
   "metadata": {},
   "outputs": [],
   "source": [
    "pd.DataFrame(data={\"Name\": labels_dict.keys(), \"Label\": labels_dict.values()}).to_csv(os.path.join(\"0001\", \"labels.csv\"))"
   ]
  },
  {
   "cell_type": "code",
   "execution_count": 8,
   "id": "ebc0bb04",
   "metadata": {},
   "outputs": [],
   "source": [
    "pd.DataFrame(data={\"Name\": X_train, \"Label\": y_train}).to_csv(os.path.join(\"0001\", \"train.csv\"))\n",
    "pd.DataFrame(data={\"Name\": X_test, \"Label\": y_test}).to_csv(os.path.join(\"0001\",\"test.csv\"))"
   ]
  },
  {
   "cell_type": "markdown",
   "id": "70e4a778",
   "metadata": {},
   "source": [
    "# Dataset Read"
   ]
  },
  {
   "cell_type": "code",
   "execution_count": 9,
   "id": "21d7c500",
   "metadata": {},
   "outputs": [],
   "source": [
    "from matplotlib import image"
   ]
  },
  {
   "cell_type": "code",
   "execution_count": 10,
   "id": "ed2194bd",
   "metadata": {},
   "outputs": [],
   "source": [
    "train = pd.read_csv(os.path.join(\"0001\", \"train.csv\"), index_col=0)\n",
    "test = pd.read_csv(os.path.join(\"0001\", \"test.csv\"),  index_col=0)\n",
    "labels = pd.read_csv(os.path.join(\"0001\", \"labels.csv\"), index_col=0)"
   ]
  },
  {
   "cell_type": "code",
   "execution_count": null,
   "id": "798072a9",
   "metadata": {},
   "outputs": [],
   "source": [
    "X_train = list()\n",
    "for name in train[\"Name\"]:\n",
    "    directory = name.split(\"0\")[0][: -1]\n",
    "    X_train.append(image.imread(os.path.join(\"LFW\", directory, name)))\n",
    "X_train = np.array(X_train)"
   ]
  },
  {
   "cell_type": "code",
   "execution_count": null,
   "id": "baca1218",
   "metadata": {},
   "outputs": [],
   "source": [
    "X_train.shape"
   ]
  },
  {
   "cell_type": "code",
   "execution_count": null,
   "id": "9cdc58bc",
   "metadata": {},
   "outputs": [],
   "source": [
    "X_test = list()\n",
    "for name in test[\"Name\"]:\n",
    "    directory = name.split(\"0\")[0][: -1]\n",
    "    X_test.append(image.imread(os.path.join(\"LFW\", directory, name)))\n",
    "X_test = np.array(X_test)"
   ]
  },
  {
   "cell_type": "code",
   "execution_count": null,
   "id": "083d5ff0",
   "metadata": {},
   "outputs": [],
   "source": [
    "X_test.shape"
   ]
  },
  {
   "cell_type": "code",
   "execution_count": null,
   "id": "5ca3424d",
   "metadata": {},
   "outputs": [],
   "source": [
    "y_train = np.array(train[\"Label\"])\n",
    "y_test = np.array(test[\"Label\"])"
   ]
  },
  {
   "cell_type": "code",
   "execution_count": null,
   "id": "f647f111",
   "metadata": {},
   "outputs": [],
   "source": [
    "y_train.shape"
   ]
  },
  {
   "cell_type": "code",
   "execution_count": null,
   "id": "352f1b62",
   "metadata": {},
   "outputs": [],
   "source": [
    "y_test.shape"
   ]
  },
  {
   "cell_type": "markdown",
   "id": "fd8de353",
   "metadata": {},
   "source": [
    "# Resnet 50"
   ]
  },
  {
   "cell_type": "code",
   "execution_count": null,
   "id": "da590063",
   "metadata": {},
   "outputs": [],
   "source": [
    "import tensorflow as tf\n",
    "from tensorflow.keras.applications.resnet50 import ResNet50"
   ]
  },
  {
   "cell_type": "code",
   "execution_count": null,
   "id": "db750534",
   "metadata": {},
   "outputs": [],
   "source": [
    "resnet_model = ResNet50(weights='imagenet', input_shape=(250, 250, 3), include_top=False, pooling='avg')"
   ]
  },
  {
   "cell_type": "code",
   "execution_count": null,
   "id": "20fde454",
   "metadata": {},
   "outputs": [],
   "source": [
    "# resnet_model.save('models/', save_format='tf')"
   ]
  },
  {
   "cell_type": "code",
   "execution_count": null,
   "id": "5325582f",
   "metadata": {},
   "outputs": [],
   "source": [
    "for layer in resnet_model.layers[:]:\n",
    "    layer.trainable = False"
   ]
  },
  {
   "cell_type": "code",
   "execution_count": null,
   "id": "9ada348e",
   "metadata": {},
   "outputs": [],
   "source": [
    "resnet_model.summary()"
   ]
  },
  {
   "cell_type": "code",
   "execution_count": null,
   "id": "09e0b3f0",
   "metadata": {},
   "outputs": [],
   "source": [
    "X_train_features = resnet_model.predict(X_train)\n",
    "X_test_features = resnet_model.predict(X_test)"
   ]
  },
  {
   "cell_type": "code",
   "execution_count": null,
   "id": "4449dcc4",
   "metadata": {},
   "outputs": [],
   "source": [
    "np.savetxt(os.path.join(\"0001\", \"X_train_features.txt\"), X_train_features)\n",
    "np.savetxt(os.path.join(\"0001\", \"X_test_features.txt\"), X_test_features)"
   ]
  },
  {
   "cell_type": "code",
   "execution_count": null,
   "id": "500822e1",
   "metadata": {},
   "outputs": [],
   "source": [
    "# X_train_features = np.loadtxt('X_train_features.txt')\n",
    "# X_test_features = np.loadtxt('X_test_features.txt')"
   ]
  },
  {
   "cell_type": "markdown",
   "id": "d5129b20",
   "metadata": {},
   "source": [
    "# KNN"
   ]
  },
  {
   "cell_type": "code",
   "execution_count": null,
   "id": "04efb69a",
   "metadata": {},
   "outputs": [],
   "source": [
    "from sklearn.neighbors import KNeighborsClassifier\n",
    "from sklearn.metrics import accuracy_score\n",
    "from sklearn.metrics import roc_curve\n",
    "from sklearn.metrics import roc_auc_score"
   ]
  },
  {
   "cell_type": "code",
   "execution_count": null,
   "id": "52c81510",
   "metadata": {},
   "outputs": [],
   "source": [
    "neigh = KNeighborsClassifier(n_neighbors=3)"
   ]
  },
  {
   "cell_type": "code",
   "execution_count": null,
   "id": "7c1ca4f1",
   "metadata": {},
   "outputs": [],
   "source": [
    "neigh.fit(X_train_features, y_train)"
   ]
  },
  {
   "cell_type": "code",
   "execution_count": null,
   "id": "6e946960",
   "metadata": {},
   "outputs": [],
   "source": [
    "y_predictions = neigh.predict(X_test_features)"
   ]
  },
  {
   "cell_type": "markdown",
   "id": "7d065d7e",
   "metadata": {},
   "source": [
    "# Accuracy"
   ]
  },
  {
   "cell_type": "code",
   "execution_count": null,
   "id": "60d79c89",
   "metadata": {},
   "outputs": [],
   "source": [
    "accuracy_score(y_test, y_predictions)"
   ]
  },
  {
   "cell_type": "code",
   "execution_count": null,
   "id": "7b854991",
   "metadata": {},
   "outputs": [],
   "source": [
    "# ns_probs = [0 for _ in range(len(y_test))]\n",
    "# lr_probs = neigh.predict_proba(X_test_features)\n",
    "\n",
    "# ns_fpr, ns_tpr, _ = roc_curve(y_test, ns_probs)\n",
    "# lr_fpr, lr_tpr, _ = roc_curve(y_test, lr_probs)\n",
    "\n",
    "# plt.plot(ns_fpr, ns_tpr, linestyle='--', label='No Skill')\n",
    "# plt.plot(lr_fpr, lr_tpr, marker='.', label='Logistic')\n",
    "# # axis labels\n",
    "# plt.xlabel('False Positive Rate')\n",
    "# plt.ylabel('True Positive Rate')\n",
    "# # show the legend\n",
    "# plt.legend()\n",
    "# # show the plot\n",
    "# plt.show()"
   ]
  },
  {
   "cell_type": "code",
   "execution_count": null,
   "id": "54114c98",
   "metadata": {},
   "outputs": [],
   "source": []
  }
 ],
 "metadata": {
  "kernelspec": {
   "display_name": "Python 3 (ipykernel)",
   "language": "python",
   "name": "python3"
  },
  "language_info": {
   "codemirror_mode": {
    "name": "ipython",
    "version": 3
   },
   "file_extension": ".py",
   "mimetype": "text/x-python",
   "name": "python",
   "nbconvert_exporter": "python",
   "pygments_lexer": "ipython3",
   "version": "3.9.11"
  }
 },
 "nbformat": 4,
 "nbformat_minor": 5
}
