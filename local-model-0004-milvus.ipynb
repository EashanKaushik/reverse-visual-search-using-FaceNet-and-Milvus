{
 "cells": [
  {
   "cell_type": "markdown",
   "id": "a24f00c6",
   "metadata": {},
   "source": [
    "# Setup"
   ]
  },
  {
   "cell_type": "code",
   "execution_count": null,
   "id": "e6ef8d27",
   "metadata": {},
   "outputs": [],
   "source": [
    "# Docker and Milvus Standalone\n",
    "\n",
    "# 1. wget https://github.com/milvus-io/milvus/releases/download/v2.0.2/milvus-standalone-docker-compose.yml -O docker-compose.yml\n",
    "# 2. https://docs.docker.com/compose/install/\n",
    "# 3. Start: sudo docker-compose up -d \n",
    "#     Check:sudo docker-compose ps\n",
    "#     Stop: sudo docker-compose down\n",
    "#     Delete data after stop: sudo rm -rf  volumes\n"
   ]
  },
  {
   "cell_type": "code",
   "execution_count": 2,
   "id": "e7e63b03",
   "metadata": {},
   "outputs": [],
   "source": [
    "# Python 3.7.1 or later is required"
   ]
  },
  {
   "cell_type": "code",
   "execution_count": null,
   "id": "106347c0",
   "metadata": {},
   "outputs": [],
   "source": [
    "# pymilvus\n",
    "\n",
    "# python3 -m pip install pymilvus==2.0.2\n",
    "#  Verify: python3 -c \"from pymilvus import Collection\""
   ]
  },
  {
   "cell_type": "markdown",
   "id": "6dbf7e9b",
   "metadata": {},
   "source": [
    "# Import Libraries"
   ]
  },
  {
   "cell_type": "code",
   "execution_count": null,
   "id": "2e29c05f",
   "metadata": {},
   "outputs": [],
   "source": [
    "from pymilvus import (\n",
    "    connections,\n",
    "    utility,\n",
    "    FieldSchema,\n",
    "    CollectionSchema,\n",
    "    DataType,\n",
    "    Collection,\n",
    ")"
   ]
  },
  {
   "cell_type": "markdown",
   "id": "929db7cb",
   "metadata": {},
   "source": [
    "# Connect to Server"
   ]
  },
  {
   "cell_type": "code",
   "execution_count": null,
   "id": "76ca919f",
   "metadata": {},
   "outputs": [],
   "source": [
    "connections.connect(\"default\", host=\"localhost\", port=\"19530\")"
   ]
  },
  {
   "cell_type": "markdown",
   "id": "fd914c0e",
   "metadata": {},
   "source": [
    "# Create Collection"
   ]
  },
  {
   "cell_type": "code",
   "execution_count": null,
   "id": "0abde445",
   "metadata": {},
   "outputs": [],
   "source": [
    "fields = [\n",
    "    FieldSchema(name=\"pk\", dtype=DataType.INT64, is_primary=True, auto_id=False),\n",
    "    FieldSchema(name=\"random\", dtype=DataType.DOUBLE),\n",
    "    FieldSchema(name=\"embeddings\", dtype=DataType.FLOAT_VECTOR, dim=8)\n",
    "]\n",
    "schema = CollectionSchema(fields, \"hello_milvus is the simplest demo to introduce the APIs\")\n",
    "hello_milvus = Collection(\"hello_milvus\", schema)"
   ]
  },
  {
   "cell_type": "code",
   "execution_count": null,
   "id": "fb479dcc",
   "metadata": {},
   "outputs": [],
   "source": [
    "import random\n",
    "entities = [\n",
    "    [i for i in range(3000)],  # field pk\n",
    "    [float(random.randrange(-20, -10)) for _ in range(3000)],  # field random\n",
    "    [[random.random() for _ in range(8)] for _ in range(3000)],  # field embeddings\n",
    "]\n",
    "insert_result = hello_milvus.insert(entities)"
   ]
  },
  {
   "cell_type": "markdown",
   "id": "1804c789",
   "metadata": {},
   "source": [
    "# Build Index on Entities"
   ]
  },
  {
   "cell_type": "code",
   "execution_count": null,
   "id": "f06509c2",
   "metadata": {},
   "outputs": [],
   "source": [
    "index = {\n",
    "    \"index_type\": \"IVF_FLAT\",\n",
    "    \"metric_type\": \"L2\",\n",
    "    \"params\": {\"nlist\": 128},\n",
    "}\n",
    "hello_milvus.create_index(\"embeddings\", index)"
   ]
  },
  {
   "cell_type": "markdown",
   "id": "04aeb0c1",
   "metadata": {},
   "source": [
    "# Load to Memory and Vector Similarity Search"
   ]
  },
  {
   "cell_type": "code",
   "execution_count": null,
   "id": "09281160",
   "metadata": {},
   "outputs": [],
   "source": [
    "hello_milvus.load()\n",
    "vectors_to_search = entities[-1][-2:]\n",
    "search_params = {\n",
    "    \"metric_type\": \"l2\",\n",
    "    \"params\": {\"nprobe\": 10},\n",
    "}"
   ]
  },
  {
   "cell_type": "markdown",
   "id": "a4b1bb55",
   "metadata": {},
   "source": [
    "## Similartiy Search"
   ]
  },
  {
   "cell_type": "code",
   "execution_count": null,
   "id": "b3c3b808",
   "metadata": {},
   "outputs": [],
   "source": [
    "result = hello_milvus.search(vectors_to_search, \"embeddings\", search_params, limit=3, output_fields=[\"random\"])"
   ]
  },
  {
   "cell_type": "markdown",
   "id": "2c47efc7",
   "metadata": {},
   "source": [
    "# Result "
   ]
  },
  {
   "cell_type": "code",
   "execution_count": null,
   "id": "44b0c0a8",
   "metadata": {},
   "outputs": [],
   "source": [
    "# python3 hello_milvus.py"
   ]
  }
 ],
 "metadata": {
  "kernelspec": {
   "display_name": "Python 3 (ipykernel)",
   "language": "python",
   "name": "python3"
  },
  "language_info": {
   "codemirror_mode": {
    "name": "ipython",
    "version": 3
   },
   "file_extension": ".py",
   "mimetype": "text/x-python",
   "name": "python",
   "nbconvert_exporter": "python",
   "pygments_lexer": "ipython3",
   "version": "3.7.13"
  }
 },
 "nbformat": 4,
 "nbformat_minor": 5
}
