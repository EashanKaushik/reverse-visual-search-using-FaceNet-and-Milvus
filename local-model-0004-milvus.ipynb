{
 "cells": [
  {
   "cell_type": "markdown",
   "id": "a24f00c6",
   "metadata": {},
   "source": [
    "# Setup"
   ]
  },
  {
   "cell_type": "code",
   "execution_count": null,
   "id": "e6ef8d27",
   "metadata": {},
   "outputs": [],
   "source": [
    "# Docker and Milvus Standalone\n",
    "\n",
    "# 1. wget https://github.com/milvus-io/milvus/releases/download/v2.0.2/milvus-standalone-docker-compose.yml -O docker-compose.yml\n",
    "# 2. https://docs.docker.com/compose/install/\n",
    "# 3. Start: sudo docker-compose up -d \n",
    "#     Check:sudo docker-compose ps\n",
    "#     Stop: sudo docker-compose down\n",
    "#     Delete data after stop: sudo rm -rf  volumes\n"
   ]
  },
  {
   "cell_type": "code",
   "execution_count": 2,
   "id": "e7e63b03",
   "metadata": {},
   "outputs": [],
   "source": [
    "# Python 3.7.1 or later is required"
   ]
  },
  {
   "cell_type": "code",
   "execution_count": null,
   "id": "106347c0",
   "metadata": {},
   "outputs": [],
   "source": [
    "# pymilvus\n",
    "\n",
    "# python3 -m pip install pymilvus==2.0.2\n",
    "#  Verify: python3 -c \"from pymilvus import Collection\""
   ]
  },
  {
   "cell_type": "markdown",
   "id": "6dbf7e9b",
   "metadata": {},
   "source": [
    "# Import Libraries"
   ]
  },
  {
   "cell_type": "code",
   "execution_count": null,
   "id": "2e29c05f",
   "metadata": {},
   "outputs": [],
   "source": [
    "from pymilvus import (\n",
    "    connections,\n",
    "    utility,\n",
    "    FieldSchema,\n",
    "    CollectionSchema,\n",
    "    DataType,\n",
    "    Collection,\n",
    ")\n",
    "import time\n",
    "import numpy as np"
   ]
  },
  {
   "cell_type": "markdown",
   "id": "83d31316",
   "metadata": {},
   "source": [
    "# Read Embeddings"
   ]
  },
  {
   "cell_type": "code",
   "execution_count": null,
   "id": "0e34570c",
   "metadata": {},
   "outputs": [],
   "source": [
    "X_train_features = np.loadtxt(os.path.join(\"0004\",'X_train_features.txt'))\n",
    "X_test_features = np.loadtxt(os.path.join(\"0004\",'X_test_features.txt'))"
   ]
  },
  {
   "cell_type": "code",
   "execution_count": null,
   "id": "950ba5b0",
   "metadata": {},
   "outputs": [],
   "source": [
    "num_entities, dim = X_train_features.shape"
   ]
  },
  {
   "cell_type": "code",
   "execution_count": null,
   "id": "6b2932c6",
   "metadata": {},
   "outputs": [],
   "source": [
    "y_train = np.loadtxt(os.path.join(\"0004\",'y_train.txt'))\n",
    "y_test = np.loadtxt(os.path.join(\"0004\",'y_test.txt'))"
   ]
  },
  {
   "cell_type": "code",
   "execution_count": null,
   "id": "3a08f7c8",
   "metadata": {},
   "outputs": [],
   "source": [
    "train_images = np.loadtxt(os.path.join(\"0004\",'train_images.txt'))\n",
    "test_images = np.loadtxt(os.path.join(\"0004\",'test_images.txt'))"
   ]
  },
  {
   "cell_type": "markdown",
   "id": "929db7cb",
   "metadata": {},
   "source": [
    "# Connect to Server"
   ]
  },
  {
   "cell_type": "code",
   "execution_count": null,
   "id": "76ca919f",
   "metadata": {},
   "outputs": [],
   "source": [
    "connections.connect(\"default\", host=\"localhost\", port=\"19530\")"
   ]
  },
  {
   "cell_type": "markdown",
   "id": "fd914c0e",
   "metadata": {},
   "source": [
    "# Create Collection"
   ]
  },
  {
   "cell_type": "code",
   "execution_count": null,
   "id": "41177c2d",
   "metadata": {},
   "outputs": [],
   "source": [
    "has = utility.has_collection(\"facenet\")\n",
    "print(f\"Does collection face_net exist in Milvus: {has}\")"
   ]
  },
  {
   "cell_type": "code",
   "execution_count": null,
   "id": "0abde445",
   "metadata": {},
   "outputs": [],
   "source": [
    "fields = [\n",
    "    FieldSchema(name=\"pk\", dtype=DataType.INT64,\n",
    "                is_primary=True, auto_id=False, description=\"primary id\"),\n",
    "    FieldSchema(name=\"label\", dtype=DataType.INT64, description=\"label\"),\n",
    "    FieldSchema(name=\"embeddings\", dtype=DataType.FLOAT_VECTOR,\n",
    "                dim=dim, description=\"vector\")\n",
    "]\n",
    "\n",
    "schema = CollectionSchema(fields, \"Embeddings for facenet\")\n",
    "print(fmt.format(\"Create collection `embed`\"))\n",
    "embed = Collection(\"embed\", schema,\n",
    "                          using='default', shards_num=2)"
   ]
  },
  {
   "cell_type": "code",
   "execution_count": null,
   "id": "fb479dcc",
   "metadata": {},
   "outputs": [],
   "source": [
    "print(fmt.format(\"Start inserting entities\"))\n",
    "\n",
    "entities = [\n",
    "    [i for i in range(0, num_entities)],  # field pk\n",
    "    y_train.reshape(-1,1),\n",
    "    X_train_features,  # field embeddings\n",
    "]\n",
    "insert_result = embed.insert(entities)"
   ]
  },
  {
   "cell_type": "code",
   "execution_count": null,
   "id": "a1e6fad6",
   "metadata": {},
   "outputs": [],
   "source": [
    "print(f\"Number of Entities: {embed.num_entities}\")"
   ]
  },
  {
   "cell_type": "markdown",
   "id": "1804c789",
   "metadata": {},
   "source": [
    "# Build Index on Entities"
   ]
  },
  {
   "cell_type": "code",
   "execution_count": null,
   "id": "f06509c2",
   "metadata": {},
   "outputs": [],
   "source": [
    "import math\n",
    "\n",
    "print(fmt.format(\"Start Creating index IVF_FLAT\"))\n",
    "\n",
    "index = {\n",
    "    \"index_type\": \"IVF_FLAT\",\n",
    "    \"metric_type\": \"L2\",\n",
    "    \"params\": {\"nlist\": 4 * math.sqrt(num_entities)},\n",
    "}\n",
    "hello_milvus.create_index(\"embeddings\", index)"
   ]
  },
  {
   "cell_type": "markdown",
   "id": "04aeb0c1",
   "metadata": {},
   "source": [
    "# Load to Memory"
   ]
  },
  {
   "cell_type": "code",
   "execution_count": null,
   "id": "09281160",
   "metadata": {},
   "outputs": [],
   "source": [
    "print(fmt.format(\"Start loading\"))\n",
    "\n",
    "hello_milvus.load()"
   ]
  },
  {
   "cell_type": "markdown",
   "id": "adce4f2e",
   "metadata": {},
   "source": [
    "# Vector Similarity Search"
   ]
  },
  {
   "cell_type": "markdown",
   "id": "a4b1bb55",
   "metadata": {},
   "source": [
    "## Similartiy Search"
   ]
  },
  {
   "cell_type": "code",
   "execution_count": null,
   "id": "7ea3b22e",
   "metadata": {},
   "outputs": [],
   "source": [
    "search_params = {\n",
    "    \"metric_type\": \"l2\",\n",
    "    \"params\": {\"nprobe\": 330},\n",
    "}"
   ]
  },
  {
   "cell_type": "code",
   "execution_count": null,
   "id": "b3c3b808",
   "metadata": {},
   "outputs": [],
   "source": [
    "result = hello_milvus.search(X_test_features, anns_field=\"embeddings\", search_params, limit=3, output_fields=[\"label\"])"
   ]
  },
  {
   "cell_type": "markdown",
   "id": "2c47efc7",
   "metadata": {},
   "source": [
    "# Result "
   ]
  },
  {
   "cell_type": "code",
   "execution_count": null,
   "id": "33b558fe",
   "metadata": {},
   "outputs": [],
   "source": [
    "result"
   ]
  },
  {
   "cell_type": "markdown",
   "id": "1d3e6bba",
   "metadata": {},
   "source": [
    "# Realse Collection"
   ]
  },
  {
   "cell_type": "code",
   "execution_count": null,
   "id": "5bb710d3",
   "metadata": {},
   "outputs": [],
   "source": [
    "collection.release()"
   ]
  },
  {
   "cell_type": "code",
   "execution_count": null,
   "id": "44b0c0a8",
   "metadata": {},
   "outputs": [],
   "source": [
    "# python3 hello_milvus.py"
   ]
  }
 ],
 "metadata": {
  "kernelspec": {
   "display_name": "Python 3 (ipykernel)",
   "language": "python",
   "name": "python3"
  },
  "language_info": {
   "codemirror_mode": {
    "name": "ipython",
    "version": 3
   },
   "file_extension": ".py",
   "mimetype": "text/x-python",
   "name": "python",
   "nbconvert_exporter": "python",
   "pygments_lexer": "ipython3",
   "version": "3.7.13"
  }
 },
 "nbformat": 4,
 "nbformat_minor": 5
}
